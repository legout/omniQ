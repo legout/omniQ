{
 "cells": [
  {
   "cell_type": "code",
   "execution_count": null,
   "id": "Hbol",
   "metadata": {},
   "outputs": [],
   "source": [
    "from omniq.workers import (\n",
    "    ThreadPoolWorker,\n",
    "    AsyncWorker,\n",
    "    AsyncGeventWorker,\n",
    "    AsyncProcessWorker,\n",
    "    GeventPoolWorker,\n",
    "    ProcessPoolWorker,\n",
    ")\n",
    "\n",
    "import datetime as dt\n",
    "from omniq.queue import (\n",
    "    FileQueue,\n",
    "    SQLiteQueue,\n",
    "    NATSQueue,\n",
    "    RedisQueue,\n",
    "    PostgresQueue,\n",
    ")\n",
    "from omniq.results import (\n",
    "    FileResultStorage,\n",
    "    SQLiteResultStorage,\n",
    "    NATSResultStorage,\n",
    "    RedisResultStorage,\n",
    "    PostgresResultStorage,\n",
    ")\n",
    "from omniq.events import (\n",
    "    PostgresEventStorage,\n",
    "    FileEventStorage,\n",
    "    SQLiteEventStorage,\n",
    ")"
   ]
  },
  {
   "cell_type": "code",
   "execution_count": null,
   "id": "MJUe",
   "metadata": {},
   "outputs": [
    {
     "name": "stdout",
     "output_type": "stream",
     "text": [
      "Created individual components:\n",
      "- Task Queue: FileQueue\n",
      "- Result Store: SQLiteResultStorage\n"
     ]
    }
   ],
   "source": [
    "# Create components individually\n",
    "queue = FileQueue(\n",
    "    base_dir=\"some/path\",\n",
    "    #queues=[\"low\", \"medium\", \"high\"]\n",
    ")\n",
    "\n",
    "result_store = SQLiteResultStorage(\n",
    "    db_path=\"some/path/sqlite.db\"\n",
    ")\n",
    "\n",
    "print(\"Created individual components:\")\n",
    "print(f\"- Task Queue: {type(queue).__name__}\")\n",
    "print(f\"- Result Store: {type(result_store).__name__}\")"
   ]
  },
  {
   "cell_type": "code",
   "execution_count": null,
   "id": "vblA",
   "metadata": {},
   "outputs": [],
   "source": [
    "# Create worker with reference to queue and result store\n",
    "worker = ThreadPoolWorker(\n",
    "    queue=queue,\n",
    "    result_storage=result_store,\n",
    "    event_storage=None,\n",
    "    max_concurrent_tasks=20\n",
    ")\n"
   ]
  },
  {
   "cell_type": "code",
   "execution_count": null,
   "id": "bkHC",
   "metadata": {},
   "outputs": [],
   "source": [
    "worker.start()"
   ]
  },
  {
   "cell_type": "code",
   "execution_count": null,
   "id": "lEQa",
   "metadata": {},
   "outputs": [
    {
     "name": "stdout",
     "output_type": "stream",
     "text": [
      "Defined simple_task function\n"
     ]
    }
   ],
   "source": [
    "# Define a task\n",
    "def simple_task(name):\n",
    "    print(f\"Hello {name}\")\n",
    "    return name\n",
    "\n",
    "print(\"Defined simple_task function\")"
   ]
  },
  {
   "cell_type": "code",
   "execution_count": null,
   "id": "PKri",
   "metadata": {},
   "outputs": [
    {
     "name": "stderr",
     "output_type": "stream",
     "text": [
      "<span class=\"codehilite\"><div class=\"highlight\"><pre><span></span><span class=\"gt\">Traceback (most recent call last):</span>\n",
      "  File <span class=\"nb\">&quot;/home/volker/coding/libs/omniQ/restart/.venv/lib/python3.13/site-packages/marimo/_runtime/executor.py&quot;</span>, line <span class=\"m\">138</span>, in <span class=\"n\">execute_cell</span>\n",
      "<span class=\"w\">    </span><span class=\"n\">exec</span><span class=\"p\">(</span><span class=\"n\">cell</span><span class=\"o\">.</span><span class=\"n\">body</span><span class=\"p\">,</span> <span class=\"n\">glbls</span><span class=\"p\">)</span>\n",
      "<span class=\"w\">    </span><span class=\"pm\">~~~~^^^^^^^^^^^^^^^^^^</span>\n",
      "  File <span class=\"nb\">&quot;/tmp/marimo_1747474/__marimo__cell_DoZF_.py&quot;</span>, line <span class=\"m\">2</span>, in <span class=\"n\">&lt;module&gt;</span>\n",
      "<span class=\"w\">    </span><span class=\"n\">task_id</span> <span class=\"o\">=</span> <span class=\"n\">queue</span><span class=\"o\">.</span><span class=\"n\">enqueue</span><span class=\"p\">(</span>\n",
      "<span class=\"w\">    </span>    <span class=\"n\">func</span><span class=\"o\">=</span><span class=\"n\">simple_task</span><span class=\"p\">,</span>\n",
      "<span class=\"w\">    </span>    <span class=\"n\">func_args</span><span class=\"o\">=</span><span class=\"nb\">dict</span><span class=\"p\">(</span><span class=\"n\">name</span><span class=\"o\">=</span><span class=\"s2\">&quot;Tom&quot;</span><span class=\"p\">),</span>\n",
      "<span class=\"w\">    </span>    <span class=\"n\">queue_name</span><span class=\"o\">=</span><span class=\"s2\">&quot;low&quot;</span>\n",
      "<span class=\"w\">    </span><span class=\"p\">)</span>\n",
      "<span class=\"gr\">TypeError</span>: <span class=\"n\">FileQueue.enqueue() got an unexpected keyword argument &#39;func&#39;</span>\n",
      "</pre></div>\n",
      "</span>"
     ]
    }
   ],
   "source": [
    "# Enqueue a task\n",
    "task_id = queue.enqueue(\n",
    "    func=simple_task,\n",
    "    func_args=dict(name=\"Tom\"),\n",
    "    queue_name=\"low\"\n",
    ")\n",
    "print(f\"Enqueued task with ID: {task_id}\")\n"
   ]
  },
  {
   "cell_type": "code",
   "execution_count": null,
   "id": "Xref",
   "metadata": {},
   "outputs": [
    {
     "name": "stdout",
     "output_type": "stream",
     "text": [
      "Help on method start in module omniq.workers.thread:\n",
      "\n",
      "start() -> None method of omniq.workers.thread.ThreadPoolWorker instance\n",
      "    Start the worker in a separate thread.\n",
      "\n"
     ]
    }
   ],
   "source": [
    "help(worker.start)"
   ]
  },
  {
   "cell_type": "code",
   "execution_count": null,
   "id": "SFPL",
   "metadata": {},
   "outputs": [],
   "source": []
  }
 ],
 "metadata": {},
 "nbformat": 4,
 "nbformat_minor": 5
}
