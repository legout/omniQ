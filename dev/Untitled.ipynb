{
 "cells": [
  {
   "cell_type": "code",
   "execution_count": 6,
   "id": "998302a9-11cf-432f-b377-485be9163f1f",
   "metadata": {},
   "outputs": [],
   "source": [
    "import dill,pickle\n",
    "\n",
    "with open(\"simple_task.pkl\", \"rb\") as f:\n",
    "    simple_task=pickle.load(f)"
   ]
  },
  {
   "cell_type": "code",
   "execution_count": 12,
   "id": "a181ab17-369a-4dfd-a762-a5746e9d1ff7",
   "metadata": {},
   "outputs": [
    {
     "data": {
      "text/plain": [
       "\u001b[31mType:\u001b[39m        str\n",
       "\u001b[31mString form:\u001b[39m simple_task\n",
       "\u001b[31mLength:\u001b[39m      11\n",
       "\u001b[31mDocstring:\u001b[39m  \n",
       "str(object='') -> str\n",
       "str(bytes_or_buffer[, encoding[, errors]]) -> str\n",
       "\n",
       "Create a new string object from the given object. If encoding or\n",
       "errors is specified, then the object must expose a data buffer\n",
       "that will be decoded using the given encoding and error handler.\n",
       "Otherwise, returns the result of object.__str__() (if defined)\n",
       "or repr(object).\n",
       "encoding defaults to 'utf-8'.\n",
       "errors defaults to 'strict'."
      ]
     },
     "metadata": {},
     "output_type": "display_data"
    }
   ],
   "source": [
    "simple_task.__qualname__?"
   ]
  },
  {
   "cell_type": "code",
   "execution_count": null,
   "id": "0816d0e7-f041-41d2-a575-f91c0f7a3b85",
   "metadata": {},
   "outputs": [],
   "source": []
  }
 ],
 "metadata": {
  "kernelspec": {
   "display_name": "omniQ",
   "language": "python",
   "name": "omniq"
  },
  "language_info": {
   "codemirror_mode": {
    "name": "ipython",
    "version": 3
   },
   "file_extension": ".py",
   "mimetype": "text/x-python",
   "name": "python",
   "nbconvert_exporter": "python",
   "pygments_lexer": "ipython3",
   "version": "3.13.5"
  }
 },
 "nbformat": 4,
 "nbformat_minor": 5
}
