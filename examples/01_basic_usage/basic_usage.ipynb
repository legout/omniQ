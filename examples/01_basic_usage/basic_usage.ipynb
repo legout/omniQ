{
 "cells": [
  {
   "cell_type": "markdown",
   "metadata": {},
   "source": [
    "# OmniQ Basic Usage Examples\n",
    "\n",
    "This notebook demonstrates the basic usage of the OmniQ library for both synchronous and asynchronous task processing.\n",
    "\n",
    "## Overview\n",
    "\n",
    "OmniQ is a modular Python task queue library that supports:\n",
    "- Multiple storage backends (File, Memory, SQLite, PostgreSQL, Redis, NATS)\n",
    "- Both synchronous and asynchronous interfaces\n",
    "- Task scheduling and recurring tasks\n",
    "- Multiple worker types\n",
    "- Task lifecycle event logging\n",
    "\n",
    "Let's start with the basic examples."
   ]
  },
  {
   "cell_type": "markdown",
   "metadata": {},
   "source": [
    "## Setup and Imports\n",
    "\n",
    "First, let's import the necessary modules:"
   ]
  },
  {
   "cell_type": "code",
   "execution_count": null,
   "metadata": {},
   "outputs": [],
   "source": [
    "import asyncio\n",
    "import datetime as dt\n",
    "from omniq import OmniQ, AsyncOmniQ\n",
    "from omniq.queue import FileTaskQueue\n",
    "from omniq.storage import SQLiteResultStorage, PostgresEventStorage"
   ]
  },
  {
   "cell_type": "markdown",
   "metadata": {},
   "source": [
    "## Synchronous Usage Example\n",
    "\n",
    "The synchronous interface is perfect for traditional Python applications and scripts. Here's how to use it:"
   ]
  },
  {
   "cell_type": "code",
   "execution_count": null,
   "metadata": {},
   "outputs": [],
   "source": [
    "# Create OmniQ instance with different storage backends\n",
    "oq_sync = OmniQ(\n",
    "    project_name=\"my_project\",\n",
    "    task_queue=FileTaskQueue(base_dir=\"some/path\", queues=[\"low\", \"medium\", \"high\"]),\n",
    "    result_store=SQLiteResultStorage(base_dir=\"some/path\"),\n",
    "    event_store=PostgresEventStorage(host=\"localhost\", port=5432, username=\"postgres\")\n",
    ")\n",
    "\n",
    "print(\"Created synchronous OmniQ instance\")"
   ]
  },
  {
   "cell_type": "code",
   "execution_count": null,
   "metadata": {},
   "outputs": [],
   "source": [
    "# Define a simple task function\n",
    "def simple_task(name):\n",
    "    print(f\"Hello {name}\")\n",
    "    return name\n",
    "\n",
    "print(\"Defined simple_task function\")"
   ]
  },
  {
   "cell_type": "code",
   "execution_count": null,
   "metadata": {},
   "outputs": [],
   "source": [
    "# Start the worker\n",
    "oq_sync.start_worker()\n",
    "print(\"Worker started\")"
   ]
  },
  {
   "cell_type": "code",
   "execution_count": null,
   "metadata": {},
   "outputs": [],
   "source": [
    "# Enqueue a task with various options\n",
    "task_id = oq_sync.enqueue(\n",
    "    func=simple_task,\n",
    "    func_args=dict(name=\"Tom\"),\n",
    "    queue_name=\"low\",\n",
    "    run_in=dt.timedelta(seconds=100),  # Delay execution\n",
    "    ttl=dt.timedelta(hours=1),         # Task expires after 1 hour\n",
    "    result_ttl=dt.timedelta(minutes=5) # Result expires after 5 minutes\n",
    ")\n",
    "\n",
    "print(f\"Enqueued task with ID: {task_id}\")"
   ]
  },
  {
   "cell_type": "code",
   "execution_count": null,
   "metadata": {},
   "outputs": [],
   "source": [
    "# Get the result\n",
    "result = oq_sync.get_result(task_id)\n",
    "print(f\"Task result: {result}\")"
   ]
  },
  {
   "cell_type": "code",
   "execution_count": null,
   "metadata": {},
   "outputs": [],
   "source": [
    "# Schedule a recurring task\n",
    "schedule_id = oq_sync.schedule(\n",
    "    func=simple_task,\n",
    "    func_args=dict(name=\"Tom\"),\n",
    "    interval=dt.timedelta(seconds=10),  # Run every 10 seconds\n",
    "    queue_name=\"low\"\n",
    ")\n",
    "\n",
    "print(f\"Scheduled recurring task with ID: {schedule_id}\")"
   ]
  },
  {
   "cell_type": "code",
   "execution_count": null,
   "metadata": {},
   "outputs": [],
   "source": [
    "# Get latest result from scheduled task\n",
    "latest_result = oq_sync.get_result(schedule_id=schedule_id, kind=\"latest\")\n",
    "print(f\"Latest scheduled task result: {latest_result}\")"
   ]
  },
  {
   "cell_type": "code",
   "execution_count": null,
   "metadata": {},
   "outputs": [],
   "source": [
    "# Stop the worker\n",
    "oq_sync.stop_worker()\n",
    "print(\"Worker stopped\")"
   ]
  },
  {
   "cell_type": "markdown",
   "metadata": {},
   "source": [
    "### Synchronous Context Manager Example\n",
    "\n",
    "Using context managers ensures proper resource cleanup:"
   ]
  },
  {
   "cell_type": "code",
   "execution_count": null,
   "metadata": {},
   "outputs": [],
   "source": [
    "# Using sync context manager for proper resource management\n",
    "with OmniQ(\n",
    "    project_name=\"my_project\",\n",
    "    task_queue=FileTaskQueue(base_dir=\"some/path\", queues=[\"low\", \"medium\", \"high\"]),\n",
    "    result_store=SQLiteResultStorage(base_dir=\"some/path\"),\n",
    "    event_store=PostgresEventStorage(host=\"localhost\", port=5432, username=\"postgres\")\n",
    ") as oq:\n",
    "    task_id = oq.enqueue(simple_task, func_args=dict(name=\"Tom\"))\n",
    "    result = oq.get_result(task_id)\n",
    "    print(f\"Context manager result: {result}\")"
   ]
  },
  {
   "cell_type": "markdown",
   "metadata": {},
   "source": [
    "## Asynchronous Usage Example\n",
    "\n",
    "The asynchronous interface is ideal for high-performance applications and when you need to handle many concurrent operations:"
   ]
  },
  {
   "cell_type": "code",
   "execution_count": null,
   "metadata": {},
   "outputs": [],
   "source": [
    "# Create AsyncOmniQ instance\n",
    "oq_async = AsyncOmniQ(\n",
    "    project_name=\"my_project\",\n",
    "    task_queue=FileTaskQueue(base_dir=\"some/path\", queues=[\"low\", \"medium\", \"high\"]),\n",
    "    result_store=SQLiteResultStorage(base_dir=\"some/path\"),\n",
    "    event_store=PostgresEventStorage(host=\"localhost\", port=5432, username=\"postgres\")\n",
    ")\n",
    "\n",
    "print(\"Created asynchronous OmniQ instance\")"
   ]
  },
  {
   "cell_type": "code",
   "execution_count": null,
   "metadata": {},
   "outputs": [],
   "source": [
    "# Define an async task function\n",
    "async def async_task(name):\n",
    "    print(f\"Hello {name}\")\n",
    "    # Simulate some async work\n",
    "    await asyncio.sleep(0.1)\n",
    "    return name\n",
    "\n",
    "print(\"Defined async_task function\")"
   ]
  },
  {
   "cell_type": "code",
   "execution_count": null,
   "metadata": {},
   "outputs": [],
   "source": [
    "# Async example function\n",
    "async def run_async_example():\n",
    "    # Start the worker\n",
    "    await oq_async.start_worker()\n",
    "    print(\"Async worker started\")\n",
    "    \n",
    "    # Enqueue a task\n",
    "    task_id = await oq_async.enqueue(\n",
    "        func=async_task,\n",
    "        func_args=dict(name=\"Tom\"),\n",
    "        queue_name=\"low\",\n",
    "        run_in=dt.timedelta(seconds=100),\n",
    "        ttl=dt.timedelta(hours=1),\n",
    "        result_ttl=dt.timedelta(minutes=5)\n",
    "    )\n",
    "    \n",
    "    print(f\"Enqueued async task with ID: {task_id}\")\n",
    "    \n",
    "    # Get the result\n",
    "    result = await oq_async.get_result(task_id)\n",
    "    print(f\"Async task result: {result}\")\n",
    "    \n",
    "    # Schedule a recurring task\n",
    "    schedule_id = await oq_async.schedule(\n",
    "        func=async_task,\n",
    "        func_args=dict(name=\"Tom\"),\n",
    "        interval=dt.timedelta(seconds=10),\n",
    "        queue_name=\"low\"\n",
    "    )\n",
    "    \n",
    "    print(f\"Scheduled recurring async task with ID: {schedule_id}\")\n",
    "    \n",
    "    # Get latest result from scheduled task\n",
    "    latest_result = await oq_async.get_result(schedule_id=schedule_id, kind=\"latest\")\n",
    "    print(f\"Latest scheduled async task result: {latest_result}\")\n",
    "    \n",
    "    # Stop the worker\n",
    "    await oq_async.stop_worker()\n",
    "    print(\"Async worker stopped\")\n",
    "\n",
    "# Run the async example\n",
    "await run_async_example()"
   ]
  },
  {
   "cell_type": "markdown",
   "metadata": {},
   "source": [
    "### Asynchronous Context Manager Example\n",
    "\n",
    "Using async context managers for proper resource management:"
   ]
  },
  {
   "cell_type": "code",
   "execution_count": null,
   "metadata": {},
   "outputs": [],
   "source": [
    "# Using async context manager\n",
    "async def run_async_context_example():\n",
    "    async with AsyncOmniQ(\n",
    "        project_name=\"my_project\",\n",
    "        task_queue=FileTaskQueue(base_dir=\"some/path\", queues=[\"low\", \"medium\", \"high\"]),\n",
    "        result_store=SQLiteResultStorage(base_dir=\"some/path\"),\n",
    "        event_store=PostgresEventStorage(host=\"localhost\", port=5432, username=\"postgres\")\n",
    "    ) as oq:\n",
    "        task_id = await oq.enqueue(async_task, func_args=dict(name=\"Tom\"))\n",
    "        result = await oq.get_result(task_id)\n",
    "        print(f\"Async context manager result: {result}\")\n",
    "\n",
    "# Run the async context manager example\n",
    "await run_async_context_example()"
   ]
  },
  {
   "cell_type": "markdown",
   "metadata": {},
   "source": [
    "## Key Concepts Explained\n",
    "\n",
    "### Storage Backends\n",
    "\n",
    "OmniQ uses three separate storage systems:\n",
    "\n",
    "1. **Task Queue**: Stores pending tasks waiting to be executed\n",
    "   - `FileTaskQueue`: Uses filesystem for task storage\n",
    "   - Supports multiple named queues with priority ordering\n",
    "\n",
    "2. **Result Storage**: Stores task execution results\n",
    "   - `SQLiteResultStorage`: Uses SQLite database for result storage\n",
    "   - Provides fast retrieval and querying capabilities\n",
    "\n",
    "3. **Event Storage**: Logs task lifecycle events for monitoring\n",
    "   - `PostgresEventStorage`: Uses PostgreSQL for event logging\n",
    "   - Enables advanced querying and analysis of task execution\n",
    "\n",
    "### Task Options\n",
    "\n",
    "- **`queue_name`**: Specifies which queue to use (enables priority processing)\n",
    "- **`run_in`**: Delays task execution by the specified time\n",
    "- **`ttl`**: Task time-to-live - task expires if not executed within this time\n",
    "- **`result_ttl`**: Result time-to-live - result is cleaned up after this time\n",
    "\n",
    "### Scheduling\n",
    "\n",
    "- **`interval`**: Creates recurring tasks that run at specified intervals\n",
    "- **`schedule_id`**: Used to retrieve results from scheduled tasks\n",
    "- **`kind=\"latest\"`**: Gets the most recent result from a scheduled task\n",
    "\n",
    "### Context Managers\n",
    "\n",
    "Both sync and async versions support context managers for automatic resource cleanup:\n",
    "- Automatically start/stop workers\n",
    "- Ensure proper connection cleanup\n",
    "- Handle exceptions gracefully"
   ]
  },
  {
   "cell_type": "markdown",
   "metadata": {},
   "source": [
    "## Next Steps\n",
    "\n",
    "This basic example shows the fundamental concepts of OmniQ. For more advanced usage, explore:\n",
    "\n",
    "- **Component-based usage**: Create and configure individual components\n",
    "- **Backend-based usage**: Use unified backends for all storage needs\n",
    "- **Configuration-based usage**: Load settings from YAML files or environment variables\n",
    "- **Multiple queues**: Implement priority-based task processing\n",
    "- **Mixed sync/async tasks**: Handle both synchronous and asynchronous functions\n",
    "- **Cloud storage**: Use S3, Azure, or GCP for distributed task processing\n",
    "\n",
    "Check the other example directories for these advanced patterns!"
   ]
  }
 ],
 "metadata": {
  "kernelspec": {
   "display_name": "Python 3",
   "language": "python",
   "name": "python3"
  },
  "language_info": {
   "codemirror_mode": {
    "name": "ipython",
    "version": 3
   },
   "file_extension": ".py",
   "mimetype": "text/x-python",
   "name": "python",
   "nbconvert_exporter": "python",
   "pygments_lexer": "ipython3",
   "version": "3.8.0"
  }
 },
 "nbformat": 4,
 "nbformat_minor": 4
}