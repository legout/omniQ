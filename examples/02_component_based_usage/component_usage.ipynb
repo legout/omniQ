{
 "cells": [
  {
   "cell_type": "markdown",
   "metadata": {},
   "source": [
    "# OmniQ Component-Based Usage Examples\n",
    "\n",
    "This notebook demonstrates the component-based approach to using the OmniQ library, where each component (Queue, Result Store, Worker) is instantiated and used separately."
   ]
  },
  {
   "cell_type": "markdown",
   "metadata": {},
   "source": [
    "## Overview\n",
    "\n",
    "The component-based approach provides maximum flexibility by allowing you to:\n",
    "\n",
    "- **Decouple Components**: Create and configure each component independently\n",
    "- **Mix and Match Backends**: Use different storage backends for different components\n",
    "- **Fine-Grained Control**: Configure each component with specific settings\n",
    "- **Modular Architecture**: Replace or upgrade individual components without affecting others\n",
    "- **Direct Component Access**: Work directly with component APIs for advanced use cases\n",
    "\n",
    "This approach is ideal when you need maximum flexibility and control over your task processing system."
   ]
  },
  {
   "cell_type": "markdown",
   "metadata": {},
   "source": [
    "## Setup and Imports\n",
    "\n",
    "First, let's import the individual components we'll be working with:"
   ]
  },
  {
   "cell_type": "code",
   "execution_count": null,
   "metadata": {},
   "outputs": [],
   "source": [
    "import datetime as dt\n",
    "from omniq.queue import FileTaskQueue, SQLiteTaskQueue\n",
    "from omniq.results import SQLiteResultStorage, FileResultStorage\n",
    "from omniq.events import PostgresEventStorage\n",
    "from omniq.workers import ThreadPoolWorker, AsyncWorker"
   ]
  },
  {
   "cell_type": "markdown",
   "metadata": {},
   "source": [
    "## Basic Component-Based Usage\n",
    "\n",
    "Let's start with the fundamental component-based approach where we create each component individually:"
   ]
  },
  {
   "cell_type": "code",
   "execution_count": null,
   "metadata": {},
   "outputs": [],
   "source": [
    "# Create components individually\n",
    "queue = FileTaskQueue(\n",
    "    project_name=\"my_project\",\n",
    "    base_dir=\"some/path\",\n",
    "    queues=[\"low\", \"medium\", \"high\"]\n",
    ")\n",
    "\n",
    "result_store = SQLiteResultStorage(\n",
    "    project_name=\"my_project\",\n",
    "    base_dir=\"some/path\"\n",
    ")\n",
    "\n",
    "print(\"Created individual components:\")\n",
    "print(f\"- Task Queue: {type(queue).__name__}\")\n",
    "print(f\"- Result Store: {type(result_store).__name__}\")"
   ]
  },
  {
   "cell_type": "markdown",
   "metadata": {},
   "source": [
    "### Creating a Worker with Component References\n",
    "\n",
    "Now we create a worker that references our queue and result store:"
   ]
  },
  {
   "cell_type": "code",
   "execution_count": null,
   "metadata": {},
   "outputs": [],
   "source": [
    "# Create worker with reference to queue and result store\n",
    "worker = ThreadPoolWorker(\n",
    "    queue=queue,\n",
    "    result_store=result_store,\n",
    "    max_workers=20\n",
    ")\n",
    "\n",
    "print(f\"Created worker: {type(worker).__name__} with {worker.max_workers} max workers\")"
   ]
  },
  {
   "cell_type": "markdown",
   "metadata": {},
   "source": [
    "### Defining and Running Tasks\n",
    "\n",
    "Let's define a simple task and see how the components work together:"
   ]
  },
  {
   "cell_type": "code",
   "execution_count": null,
   "metadata": {},
   "outputs": [],
   "source": [
    "# Define a task\n",
    "def simple_task(name):\n",
    "    print(f\"Hello {name}\")\n",
    "    return name\n",
    "\n",
    "print(\"Defined simple_task function\")"
   ]
  },
  {
   "cell_type": "code",
   "execution_count": null,
   "metadata": {},
   "outputs": [],
   "source": [
    "# Start the worker\n",
    "worker.start()\n",
    "print(\"Worker started\")\n",
    "\n",
    "# Enqueue a task\n",
    "task_id = queue.enqueue(\n",
    "    func=simple_task,\n",
    "    func_args=dict(name=\"Tom\"),\n",
    "    queue_name=\"low\"\n",
    ")\n",
    "\n",
    "print(f\"Enqueued task with ID: {task_id}\")\n",
    "\n",
    "# Get the result\n",
    "result = result_store.get(task_id)\n",
    "print(f\"Task result: {result}\")\n",
    "\n",
    "# Stop the worker\n",
    "worker.stop()\n",
    "print(\"Worker stopped\")"
   ]
  },
  {
   "cell_type": "markdown",
   "metadata": {},
   "source": [
    "## Context Manager Approach\n",
    "\n",
    "For proper resource management, it's recommended to use context managers. This ensures automatic cleanup of resources:"
   ]
  },
  {
   "cell_type": "code",
   "execution_count": null,
   "metadata": {},
   "outputs": [],
   "source": [
    "# Using context managers for automatic resource cleanup\n",
    "with FileTaskQueue(\n",
    "    project_name=\"my_project\",\n",
    "    base_dir=\"some/path\",\n",
    "    queues=[\"low\", \"medium\", \"high\"]\n",
    ") as queue, SQLiteResultStorage(\n",
    "    project_name=\"my_project\",\n",
    "    base_dir=\"some/path\"\n",
    ") as result_store, ThreadPoolWorker(\n",
    "    queue=queue, \n",
    "    result_store=result_store,\n",
    "    max_workers=10\n",
    ") as worker:\n",
    "    \n",
    "    print(\"All components initialized with context managers\")\n",
    "    \n",
    "    task_id = queue.enqueue(simple_task, func_args=dict(name=\"Tom\"))\n",
    "    print(f\"Enqueued task with ID: {task_id}\")\n",
    "    \n",
    "    result = result_store.get(task_id)\n",
    "    print(f\"Context manager result: {result}\")\n",
    "\n",
    "print(\"Context managers automatically cleaned up resources\")"
   ]
  },
  {
   "cell_type": "markdown",
   "metadata": {},
   "source": [
    "## Mixed Backends Example\n",
    "\n",
    "One of the key advantages of the component-based approach is the ability to mix different backends for different components. This allows you to optimize each component for its specific use case:"
   ]
  },
  {
   "cell_type": "code",
   "execution_count": null,
   "metadata": {},
   "outputs": [],
   "source": [
    "# Define a task for mixed backends example\n",
    "def processing_task(name):\n",
    "    print(f\"Processing {name} with mixed backends\")\n",
    "    return f\"Processed: {name}\"\n",
    "\n",
    "print(\"Defined processing_task function\")"
   ]
  },
  {
   "cell_type": "code",
   "execution_count": null,
   "metadata": {},
   "outputs": [],
   "source": [
    "# Mix different backends:\n",
    "# - File-based task queue for simplicity\n",
    "# - File result storage for portability  \n",
    "# - PostgreSQL event storage for advanced querying\n",
    "\n",
    "mixed_queue = FileTaskQueue(\n",
    "    project_name=\"mixed_example\",\n",
    "    base_dir=\"./queue_storage\",\n",
    "    queues=[\"processing\"]\n",
    ")\n",
    "\n",
    "mixed_result_store = FileResultStorage(\n",
    "    project_name=\"mixed_example\", \n",
    "    base_dir=\"./result_storage\"\n",
    ")\n",
    "\n",
    "mixed_event_store = PostgresEventStorage(\n",
    "    project_name=\"mixed_example\",\n",
    "    host=\"localhost\",\n",
    "    port=5432,\n",
    "    username=\"postgres\",\n",
    "    password=\"secret\"\n",
    ")\n",
    "\n",
    "print(\"Created mixed backend components:\")\n",
    "print(f\"- Queue: {type(mixed_queue).__name__} (File-based)\")\n",
    "print(f\"- Results: {type(mixed_result_store).__name__} (File-based)\")\n",
    "print(f\"- Events: {type(mixed_event_store).__name__} (PostgreSQL-based)\")"
   ]
  },
  {
   "cell_type": "code",
   "execution_count": null,
   "metadata": {},
   "outputs": [],
   "source": [
    "# Use async worker for better I/O performance\n",
    "mixed_worker = AsyncWorker(\n",
    "    queue=mixed_queue,\n",
    "    result_store=mixed_result_store,\n",
    "    event_store=mixed_event_store,\n",
    "    max_workers=5\n",
    ")\n",
    "\n",
    "print(f\"Created {type(mixed_worker).__name__} with event logging\")"
   ]
  },
  {
   "cell_type": "code",
   "execution_count": null,
   "metadata": {},
   "outputs": [],
   "source": [
    "# Run the mixed backends example\n",
    "with mixed_queue, mixed_result_store, mixed_event_store, mixed_worker:\n",
    "    # Enqueue multiple tasks\n",
    "    task_ids = []\n",
    "    for i in range(3):\n",
    "        task_id = mixed_queue.enqueue(\n",
    "            func=processing_task,\n",
    "            func_args=dict(name=f\"Task-{i+1}\"),\n",
    "            queue_name=\"processing\"\n",
    "        )\n",
    "        task_ids.append(task_id)\n",
    "        print(f\"Enqueued task {i+1} with ID: {task_id}\")\n",
    "\n",
    "    # Get results\n",
    "    for task_id in task_ids:\n",
    "        result = mixed_result_store.get(task_id)\n",
    "        print(f\"Result for {task_id}: {result}\")\n",
    "\n",
    "print(\"Mixed backends example completed\")"
   ]
  },
  {
   "cell_type": "markdown",
   "metadata": {},
   "source": [
    "## Priority Queue Processing\n",
    "\n",
    "The component-based approach makes it easy to implement priority-based task processing by using multiple named queues:"
   ]
  },
  {
   "cell_type": "code",
   "execution_count": null,
   "metadata": {},
   "outputs": [],
   "source": [
    "# Define tasks with different priorities\n",
    "def urgent_task(message):\n",
    "    print(f\"🚨 URGENT: {message}\")\n",
    "    return f\"urgent_result: {message}\"\n",
    "\n",
    "def normal_task(message):\n",
    "    print(f\"📋 Normal: {message}\")\n",
    "    return f\"normal_result: {message}\"\n",
    "\n",
    "def low_priority_task(message):\n",
    "    print(f\"⏳ Low priority: {message}\")\n",
    "    return f\"low_result: {message}\"\n",
    "\n",
    "print(\"Defined priority-based task functions\")"
   ]
  },
  {
   "cell_type": "code",
   "execution_count": null,
   "metadata": {},
   "outputs": [],
   "source": [
    "# Create SQLite queue with priority queues\n",
    "priority_queue = SQLiteTaskQueue(\n",
    "    project_name=\"priority_example\",\n",
    "    base_dir=\"./priority_storage\",\n",
    "    queues=[\"high\", \"medium\", \"low\"]  # Worker processes in this order\n",
    ")\n",
    "\n",
    "priority_result_store = SQLiteResultStorage(\n",
    "    project_name=\"priority_example\",\n",
    "    base_dir=\"./priority_storage\"\n",
    ")\n",
    "\n",
    "priority_worker = ThreadPoolWorker(\n",
    "    queue=priority_queue,\n",
    "    result_store=priority_result_store,\n",
    "    max_workers=3\n",
    ")\n",
    "\n",
    "print(\"Created priority queue system with SQLite backend\")\n",
    "print(\"Queue priority order: high → medium → low\")"
   ]
  },
  {
   "cell_type": "code",
   "execution_count": null,
   "metadata": {},
   "outputs": [],
   "source": [
    "# Demonstrate priority processing\n",
    "with priority_queue, priority_result_store, priority_worker:\n",
    "    task_ids = []\n",
    "    \n",
    "    # Enqueue tasks in mixed order - worker will process by priority\n",
    "    \n",
    "    # Enqueue low priority first\n",
    "    low_id = priority_queue.enqueue(\n",
    "        func=low_priority_task,\n",
    "        func_args=dict(message=\"This should run last\"),\n",
    "        queue_name=\"low\"\n",
    "    )\n",
    "    task_ids.append((\"low\", low_id))\n",
    "    \n",
    "    # Then normal priority\n",
    "    normal_id = priority_queue.enqueue(\n",
    "        func=normal_task,\n",
    "        func_args=dict(message=\"This should run second\"),\n",
    "        queue_name=\"medium\"\n",
    "    )\n",
    "    task_ids.append((\"medium\", normal_id))\n",
    "    \n",
    "    # Finally high priority (but will be processed first)\n",
    "    high_id = priority_queue.enqueue(\n",
    "        func=urgent_task,\n",
    "        func_args=dict(message=\"This should run first\"),\n",
    "        queue_name=\"high\"\n",
    "    )\n",
    "    task_ids.append((\"high\", high_id))\n",
    "\n",
    "    print(\"Tasks enqueued. Worker will process high → medium → low priority.\")\n",
    "    \n",
    "    # Get results\n",
    "    for priority, task_id in task_ids:\n",
    "        result = priority_result_store.get(task_id)\n",
    "        print(f\"[{priority}] Result: {result}\")\n",
    "\n",
    "print(\"Priority queue example completed\")"
   ]
  },
  {
   "cell_type": "markdown",
   "metadata": {},
   "source": [
    "## Key Benefits of Component-Based Approach\n",
    "\n",
    "### 1. **Flexibility**\n",
    "- Choose the best backend for each component based on your specific requirements\n",
    "- Mix file-based queues with database result storage\n",
    "- Use different databases for different components\n",
    "\n",
    "### 2. **Scalability** \n",
    "- Scale components independently\n",
    "- Run multiple workers with shared storage\n",
    "- Distribute components across different servers\n",
    "\n",
    "### 3. **Testing**\n",
    "- Mock individual components for unit testing\n",
    "- Test components in isolation\n",
    "- Use memory backends for fast testing\n",
    "\n",
    "### 4. **Migration**\n",
    "- Migrate components one at a time\n",
    "- No system-wide changes required\n",
    "- Gradual adoption of new backends\n",
    "\n",
    "### 5. **Performance Optimization**\n",
    "- Configure each component for its specific workload\n",
    "- Use fast storage for frequently accessed data\n",
    "- Use durable storage for critical data"
   ]
  },
  {
   "cell_type": "markdown",
   "metadata": {},
   "source": [
    "## When to Use Component-Based Approach\n",
    "\n",
    "Consider the component-based approach when you need:\n",
    "\n",
    "- **Different storage backends** for different components\n",
    "- **Fine-grained control** over component configuration\n",
    "- **Integration** with existing systems\n",
    "- **Maximum flexibility** and customization\n",
    "- **Custom orchestration logic** around OmniQ components\n",
    "- **Independent scaling** of different components\n",
    "\n",
    "For simpler use cases, consider:\n",
    "- **Basic usage** examples for straightforward task processing\n",
    "- **Backend-based configuration** for unified storage across all components\n",
    "- **Configuration-based setup** for environment-driven configuration"
   ]
  },
  {
   "cell_type": "markdown",
   "metadata": {},
   "source": [
    "## Next Steps\n",
    "\n",
    "Now that you understand the component-based approach, explore these advanced topics:\n",
    "\n",
    "- **Backend-based usage**: Use unified backends for simplified configuration\n",
    "- **Configuration-based usage**: Load settings from YAML files or environment variables\n",
    "- **Cloud storage integration**: Use S3, Azure, or GCP for distributed processing\n",
    "- **Custom worker implementations**: Create specialized workers for specific workloads\n",
    "- **Event-driven architectures**: Build reactive systems using OmniQ's event system\n",
    "- **Monitoring and observability**: Implement comprehensive task monitoring\n",
    "\n",
    "The component-based approach provides the foundation for building sophisticated, scalable task processing systems!"
   ]
  }
 ],
 "metadata": {
  "kernelspec": {
   "display_name": "Python 3",
   "language": "python",
   "name": "python3"
  },
  "language_info": {
   "codemirror_mode": {
    "name": "ipython",
    "version": 3
   },
   "file_extension": ".py",
   "mimetype": "text/x-python",
   "name": "python",
   "nbconvert_exporter": "python",
   "pygments_lexer": "ipython3",
   "version": "3.8.0"
  }
 },
 "nbformat": 4,
 "nbformat_minor": 4
}